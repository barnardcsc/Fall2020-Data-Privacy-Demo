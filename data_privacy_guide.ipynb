{
  "nbformat": 4,
  "nbformat_minor": 0,
  "metadata": {
    "colab": {
      "name": "data-privacy-guide.ipynb",
      "provenance": [],
      "collapsed_sections": []
    },
    "kernelspec": {
      "name": "python3",
      "display_name": "Python 3"
    }
  },
  "cells": [
    {
      "cell_type": "markdown",
      "metadata": {
        "id": "CzY8sqEo116i",
        "colab_type": "text"
      },
      "source": [
        "# Data Privacy Workshop\n",
        "## Privacy in a Networked World, Spring 2020\n",
        "##### *Google Colaboratory:  https://colab.research.google.com/notebooks/intro.ipynb*\n",
        "\n",
        "In the previous exercise, you saw how anecdotal information that individuals have can lead to a breach in privacy. Similarly, this exercise will demonstrate how two unrelated datasets could be linked to violate the privacy of ordinary people. To do this, we'll merge a dataset modeled from LinkedIn information with a dataset modeled from \"deidentified\" information about cardiovascular disease medications.\n",
        "\n",
        "First, you'll need to import necessary libraries. Because Python is an open-source programming language, the programming community has created libraries to supplement Python's standard library. Today, we will Pandas, a Python library for data analysis. Pandas makes it easy to handle and manipulate csv files and other data formats by creating DataFrames."
      ]
    },
    {
      "cell_type": "code",
      "metadata": {
        "id": "vw2V5t941mh0",
        "colab_type": "code",
        "colab": {
          "base_uri": "https://localhost:8080/",
          "height": 121
        },
        "outputId": "1e401da6-1cd8-4047-a10b-11a651f01802"
      },
      "source": [
        "pip install pandas"
      ],
      "execution_count": 16,
      "outputs": [
        {
          "output_type": "stream",
          "text": [
            "Requirement already satisfied: pandas in /usr/local/lib/python3.6/dist-packages (1.0.3)\n",
            "Requirement already satisfied: numpy>=1.13.3 in /usr/local/lib/python3.6/dist-packages (from pandas) (1.18.2)\n",
            "Requirement already satisfied: python-dateutil>=2.6.1 in /usr/local/lib/python3.6/dist-packages (from pandas) (2.8.1)\n",
            "Requirement already satisfied: pytz>=2017.2 in /usr/local/lib/python3.6/dist-packages (from pandas) (2018.9)\n",
            "Requirement already satisfied: six>=1.5 in /usr/local/lib/python3.6/dist-packages (from python-dateutil>=2.6.1->pandas) (1.12.0)\n"
          ],
          "name": "stdout"
        }
      ]
    },
    {
      "cell_type": "code",
      "metadata": {
        "id": "5O4zejlq1uK5",
        "colab_type": "code",
        "colab": {}
      },
      "source": [
        "import pandas as pd\n",
        "import os"
      ],
      "execution_count": 0,
      "outputs": []
    },
    {
      "cell_type": "markdown",
      "metadata": {
        "id": "AurAlluKUcfA",
        "colab_type": "text"
      },
      "source": [
        "Get the data from CSC Github page: [tinyurl.com/csc-github](https://tinyurl.com/csc-github)\n",
        "\n",
        "There are two datasets, one modeled after LinkedIn data (or more generally, social media) and the other after common survey data."
      ]
    },
    {
      "cell_type": "code",
      "metadata": {
        "id": "s28pKkA6S4Xl",
        "colab_type": "code",
        "colab": {}
      },
      "source": [
        "linked_in_url = \"https://raw.githubusercontent.com/Barnard-Computational-Science-Center/data-privacy-example/master/mock_linked_in_data.csv\"\n",
        "study_data_url = \"https://raw.githubusercontent.com/Barnard-Computational-Science-Center/data-privacy-example/master/mock_study_data.csv\"\n"
      ],
      "execution_count": 0,
      "outputs": []
    },
    {
      "cell_type": "markdown",
      "metadata": {
        "id": "lpcQzvbG5x4l",
        "colab_type": "text"
      },
      "source": [
        "To create a dataframe from a csv file, we'll use the Pandas function read_csv. Because it is a Pandas function, and we gave the Pandas library the alias 'pd' when importing it, we can reference the function by typing ```linked_in_df = pd.read_csv(\"filename\")```.\n",
        "\n",
        "The function takes a file name argument. We will also assign the dataframe to the name linked_in_df so that we can reference it later. In this exercise, we'll be using csv files that are hosted on the CSC GitHub page. To access their URLs, you would click on the file in GitHub, click on the \"Raw\" button near the top, and copy the resulting URL.\n",
        "\n",
        "```linked_in_df.head()``` is a function that allows us to see the first five observations of the DataFrame. It is a function, but has no required arguments, so you just need to type an empty ().\n"
      ]
    },
    {
      "cell_type": "code",
      "metadata": {
        "id": "D0teBbd41wds",
        "colab_type": "code",
        "outputId": "dcbf6cc2-9757-42ef-c395-3a8501a2bca8",
        "colab": {
          "base_uri": "https://localhost:8080/",
          "height": 195
        }
      },
      "source": [
        "linked_in_df = pd.read_csv(linked_in_url)\n",
        "linked_in_df.head()"
      ],
      "execution_count": 19,
      "outputs": [
        {
          "output_type": "execute_result",
          "data": {
            "text/html": [
              "<div>\n",
              "<style scoped>\n",
              "    .dataframe tbody tr th:only-of-type {\n",
              "        vertical-align: middle;\n",
              "    }\n",
              "\n",
              "    .dataframe tbody tr th {\n",
              "        vertical-align: top;\n",
              "    }\n",
              "\n",
              "    .dataframe thead th {\n",
              "        text-align: right;\n",
              "    }\n",
              "</style>\n",
              "<table border=\"1\" class=\"dataframe\">\n",
              "  <thead>\n",
              "    <tr style=\"text-align: right;\">\n",
              "      <th></th>\n",
              "      <th>full_name</th>\n",
              "      <th>race</th>\n",
              "      <th>gender</th>\n",
              "      <th>age</th>\n",
              "      <th>job_title</th>\n",
              "      <th>state</th>\n",
              "      <th>city</th>\n",
              "      <th>zip_code</th>\n",
              "    </tr>\n",
              "  </thead>\n",
              "  <tbody>\n",
              "    <tr>\n",
              "      <th>0</th>\n",
              "      <td>Gabby Ygoe</td>\n",
              "      <td>Black</td>\n",
              "      <td>Male</td>\n",
              "      <td>27</td>\n",
              "      <td>Marketing Manager</td>\n",
              "      <td>New York</td>\n",
              "      <td>Jamaica</td>\n",
              "      <td>11499</td>\n",
              "    </tr>\n",
              "    <tr>\n",
              "      <th>1</th>\n",
              "      <td>Perice Elloit</td>\n",
              "      <td>White</td>\n",
              "      <td>Male</td>\n",
              "      <td>51</td>\n",
              "      <td>Mechanical Engineer</td>\n",
              "      <td>New York</td>\n",
              "      <td>New York City</td>\n",
              "      <td>10280</td>\n",
              "    </tr>\n",
              "    <tr>\n",
              "      <th>2</th>\n",
              "      <td>Julian Abbott</td>\n",
              "      <td>White</td>\n",
              "      <td>Male</td>\n",
              "      <td>37</td>\n",
              "      <td>Legal Assistant</td>\n",
              "      <td>New York</td>\n",
              "      <td>New York City</td>\n",
              "      <td>10090</td>\n",
              "    </tr>\n",
              "    <tr>\n",
              "      <th>3</th>\n",
              "      <td>Rudolph Extill</td>\n",
              "      <td>Hispanic</td>\n",
              "      <td>Male</td>\n",
              "      <td>69</td>\n",
              "      <td>Data Analyst</td>\n",
              "      <td>New York</td>\n",
              "      <td>Albany</td>\n",
              "      <td>12210</td>\n",
              "    </tr>\n",
              "    <tr>\n",
              "      <th>4</th>\n",
              "      <td>Sondra Malter</td>\n",
              "      <td>Black</td>\n",
              "      <td>Female</td>\n",
              "      <td>31</td>\n",
              "      <td>Clinical Specialist</td>\n",
              "      <td>New York</td>\n",
              "      <td>New York City</td>\n",
              "      <td>10099</td>\n",
              "    </tr>\n",
              "  </tbody>\n",
              "</table>\n",
              "</div>"
            ],
            "text/plain": [
              "        full_name      race  gender  ...     state           city zip_code\n",
              "0      Gabby Ygoe     Black    Male  ...  New York        Jamaica    11499\n",
              "1   Perice Elloit     White    Male  ...  New York  New York City    10280\n",
              "2   Julian Abbott     White    Male  ...  New York  New York City    10090\n",
              "3  Rudolph Extill  Hispanic    Male  ...  New York         Albany    12210\n",
              "4   Sondra Malter     Black  Female  ...  New York  New York City    10099\n",
              "\n",
              "[5 rows x 8 columns]"
            ]
          },
          "metadata": {
            "tags": []
          },
          "execution_count": 19
        }
      ]
    },
    {
      "cell_type": "markdown",
      "metadata": {
        "id": "ckaggW9a7DTV",
        "colab_type": "text"
      },
      "source": [
        "Consider raw survey data for a study similar this one: https://www.ahajournals.org/doi/10.1161/CIRCOUTCOMES.117.004194\n",
        "\n",
        "The mock data we're going to merge with the LinkedIn data might be used to analyse efficacy of 3 common cardiovascular disease medications (Pradaxa, Plavix, Eliquis).\n"
      ]
    },
    {
      "cell_type": "code",
      "metadata": {
        "id": "CgIgB2lS78im",
        "colab_type": "code",
        "outputId": "95411fb5-a825-4a29-9049-c123d5d0b182",
        "colab": {
          "base_uri": "https://localhost:8080/",
          "height": 195
        }
      },
      "source": [
        "study_df = pd.read_csv(study_data_url)\n",
        "study_df.head()"
      ],
      "execution_count": 20,
      "outputs": [
        {
          "output_type": "execute_result",
          "data": {
            "text/html": [
              "<div>\n",
              "<style scoped>\n",
              "    .dataframe tbody tr th:only-of-type {\n",
              "        vertical-align: middle;\n",
              "    }\n",
              "\n",
              "    .dataframe tbody tr th {\n",
              "        vertical-align: top;\n",
              "    }\n",
              "\n",
              "    .dataframe thead th {\n",
              "        text-align: right;\n",
              "    }\n",
              "</style>\n",
              "<table border=\"1\" class=\"dataframe\">\n",
              "  <thead>\n",
              "    <tr style=\"text-align: right;\">\n",
              "      <th></th>\n",
              "      <th>race</th>\n",
              "      <th>gender</th>\n",
              "      <th>age</th>\n",
              "      <th>medication</th>\n",
              "      <th>job_title</th>\n",
              "      <th>city</th>\n",
              "    </tr>\n",
              "  </thead>\n",
              "  <tbody>\n",
              "    <tr>\n",
              "      <th>0</th>\n",
              "      <td>White</td>\n",
              "      <td>Female</td>\n",
              "      <td>68</td>\n",
              "      <td>Pradaxa</td>\n",
              "      <td>Lawyer</td>\n",
              "      <td>Buffalo</td>\n",
              "    </tr>\n",
              "    <tr>\n",
              "      <th>1</th>\n",
              "      <td>White</td>\n",
              "      <td>Male</td>\n",
              "      <td>69</td>\n",
              "      <td>Eliquis</td>\n",
              "      <td>Laywer</td>\n",
              "      <td>Bronx</td>\n",
              "    </tr>\n",
              "    <tr>\n",
              "      <th>2</th>\n",
              "      <td>White</td>\n",
              "      <td>Male</td>\n",
              "      <td>70</td>\n",
              "      <td>Plavix</td>\n",
              "      <td>Electrical Engineer</td>\n",
              "      <td>Brooklyn</td>\n",
              "    </tr>\n",
              "    <tr>\n",
              "      <th>3</th>\n",
              "      <td>White</td>\n",
              "      <td>Male</td>\n",
              "      <td>70</td>\n",
              "      <td>Pradaxa</td>\n",
              "      <td>Biostatistician</td>\n",
              "      <td>Elmira</td>\n",
              "    </tr>\n",
              "    <tr>\n",
              "      <th>4</th>\n",
              "      <td>White</td>\n",
              "      <td>Female</td>\n",
              "      <td>70</td>\n",
              "      <td>Pradaxa</td>\n",
              "      <td>Director of Sales</td>\n",
              "      <td>New York City</td>\n",
              "    </tr>\n",
              "  </tbody>\n",
              "</table>\n",
              "</div>"
            ],
            "text/plain": [
              "    race  gender  age medication            job_title           city\n",
              "0  White  Female   68    Pradaxa               Lawyer        Buffalo\n",
              "1  White    Male   69    Eliquis               Laywer          Bronx\n",
              "2  White    Male   70     Plavix  Electrical Engineer       Brooklyn\n",
              "3  White    Male   70    Pradaxa      Biostatistician         Elmira\n",
              "4  White  Female   70    Pradaxa    Director of Sales  New York City"
            ]
          },
          "metadata": {
            "tags": []
          },
          "execution_count": 20
        }
      ]
    },
    {
      "cell_type": "markdown",
      "metadata": {
        "id": "AadoUOl18TSG",
        "colab_type": "text"
      },
      "source": [
        "Look for similar fields between the two dataframes. Consider the possible limitations of some of the fields, and which may be optimal to join on if the objective is to merge the data. Merging the data accurately would reveal that someone, based on information from their LinkedIn profile, was also part of a cardiovascular disease study, as well as which medication they were taking."
      ]
    },
    {
      "cell_type": "markdown",
      "metadata": {
        "id": "1tegDOBt9Ie8",
        "colab_type": "text"
      },
      "source": [
        "## Merging the DataFrames\n",
        "The next step is to merge the two dataframes, which will potentially violate the privacy of these (fake) people. Pandas has a function that suits our needs, .merge(). There are 4 possible types of merges: left, right, inner, and outer.\n",
        "\n",
        "![Venn diagrams demonstrating the difference between join types](http://www.datasciencemadesimple.com/wp-content/uploads/2017/09/join-or-merge-in-python-pandas-1.png)\n",
        "\n",
        "[Source](http://www.datasciencemadesimple.com/join-merge-data-frames-pandas-python/)\n",
        "\n",
        "We'll use an inner merge because we're interested in the observations that exist in *both* DataFrames. An outer merge would keep all observations from both. Left and right joins would keep all of the observations from one of the DataFrames. \n",
        "\n",
        "```\n",
        "pd.merge(left_df, right_df, how = {'inner', 'outer', 'left', or 'right'}, on = [all your merge columns, in ''])\n",
        "```\n",
        "\n",
        "Each of the items separated by commas in the .merge() function are the arguments that merge requires. The order of left_df and right_df only matters if you're using a left or right merge. In this case, we can write study_df and linked_in_df in any order. Our how will be 'inner' because we've determined that's the best join type for our purpose. On will be the columns we want to merge on, separated by commas, in quotes. If you were using different data, you would need to either make sure that the shared fields had the same names in both DataFrames, or use left_on and right_on to list them separately. \n",
        "\n"
      ]
    },
    {
      "cell_type": "code",
      "metadata": {
        "id": "3EC8VpKg9Mul",
        "colab_type": "code",
        "outputId": "3fadc5a3-3ef6-4568-f4c8-06037fe978de",
        "colab": {
          "base_uri": "https://localhost:8080/",
          "height": 136
        }
      },
      "source": [
        "inner = pd.merge(study_df, linked_in_df, how = 'inner', on = ['race', 'gender', 'city', 'age', 'job_title'])\n",
        "inner"
      ],
      "execution_count": 21,
      "outputs": [
        {
          "output_type": "execute_result",
          "data": {
            "text/html": [
              "<div>\n",
              "<style scoped>\n",
              "    .dataframe tbody tr th:only-of-type {\n",
              "        vertical-align: middle;\n",
              "    }\n",
              "\n",
              "    .dataframe tbody tr th {\n",
              "        vertical-align: top;\n",
              "    }\n",
              "\n",
              "    .dataframe thead th {\n",
              "        text-align: right;\n",
              "    }\n",
              "</style>\n",
              "<table border=\"1\" class=\"dataframe\">\n",
              "  <thead>\n",
              "    <tr style=\"text-align: right;\">\n",
              "      <th></th>\n",
              "      <th>race</th>\n",
              "      <th>gender</th>\n",
              "      <th>age</th>\n",
              "      <th>medication</th>\n",
              "      <th>job_title</th>\n",
              "      <th>city</th>\n",
              "      <th>full_name</th>\n",
              "      <th>state</th>\n",
              "      <th>zip_code</th>\n",
              "    </tr>\n",
              "  </thead>\n",
              "  <tbody>\n",
              "    <tr>\n",
              "      <th>0</th>\n",
              "      <td>White</td>\n",
              "      <td>Male</td>\n",
              "      <td>70</td>\n",
              "      <td>Pradaxa</td>\n",
              "      <td>Biostatistician</td>\n",
              "      <td>Elmira</td>\n",
              "      <td>Aland Baroche</td>\n",
              "      <td>New York</td>\n",
              "      <td>14905</td>\n",
              "    </tr>\n",
              "    <tr>\n",
              "      <th>1</th>\n",
              "      <td>White</td>\n",
              "      <td>Female</td>\n",
              "      <td>66</td>\n",
              "      <td>Plavix</td>\n",
              "      <td>Data Analyst</td>\n",
              "      <td>New York City</td>\n",
              "      <td>Michal Challinor</td>\n",
              "      <td>New York</td>\n",
              "      <td>10034</td>\n",
              "    </tr>\n",
              "    <tr>\n",
              "      <th>2</th>\n",
              "      <td>White</td>\n",
              "      <td>Male</td>\n",
              "      <td>60</td>\n",
              "      <td>Plavix</td>\n",
              "      <td>Software Developer</td>\n",
              "      <td>New York City</td>\n",
              "      <td>Roderick Emlen</td>\n",
              "      <td>New York</td>\n",
              "      <td>10024</td>\n",
              "    </tr>\n",
              "  </tbody>\n",
              "</table>\n",
              "</div>"
            ],
            "text/plain": [
              "    race  gender  age  ...         full_name     state zip_code\n",
              "0  White    Male   70  ...     Aland Baroche  New York    14905\n",
              "1  White  Female   66  ...  Michal Challinor  New York    10034\n",
              "2  White    Male   60  ...    Roderick Emlen  New York    10024\n",
              "\n",
              "[3 rows x 9 columns]"
            ]
          },
          "metadata": {
            "tags": []
          },
          "execution_count": 21
        }
      ]
    },
    {
      "cell_type": "markdown",
      "metadata": {
        "id": "Tz0jgHEYA-3J",
        "colab_type": "text"
      },
      "source": [
        "When we use all of the shared fields as our join fields, we only get 3 results. Given the large population of New York City and the ubiquity of Software Developers and Data Analysts, Michal and Roderick are unlikely to be a match. Aland, however, is a biostatistician in Elmira. Given the smaller population and relatively niche occupation, it's more likely that this is a match and Aland's medical information has been compromised. "
      ]
    },
    {
      "cell_type": "markdown",
      "metadata": {
        "id": "sjU9BWUiC__8",
        "colab_type": "text"
      },
      "source": [
        "## Experiment in groups\n",
        "Next, you'll break out into small groups and experiment with the merge fields. See what the size of your merged dataframes are when you use different fields in the 'on' argument of merge. \n",
        "\n",
        "* Is it possible to find more matches using fewer fields? Are there any drawbacks to doing this? Experiment with different join combinations.\n",
        "* Are there any issues with any of the fields? Things that might make it difficult to rely on them for merging? Remember, in this case, we are looking for exact matches.\n",
        "* Are there characteristics of the DataFrames that might affect the joins, or the privacy of of the people they describe?\n",
        "\n",
        "A few methods that might be helpful to your exploration:\n",
        "\n",
        "* .describe() will return descriptive statistics for any quantitative fields. Example:\n",
        "```\n",
        "study_df.describe()\n",
        "linked_in_df.describe()\n",
        "```\n",
        "* .value_counts() will return the distribution of qualitative values for a given field. Example: \n",
        "```\n",
        "study_df['gender'].value_counts()\n",
        "linked_in_df['job_title'].value_counts()\n",
        "```\n",
        "* len() returns the length of a DataFrame or list. Example:\n",
        "```len(study_df)```\n",
        "* .median(),.mean(), .min(), and .max() will return what you would expect."
      ]
    },
    {
      "cell_type": "code",
      "metadata": {
        "id": "k07bbhstWHB8",
        "colab_type": "code",
        "colab": {}
      },
      "source": [
        ""
      ],
      "execution_count": 0,
      "outputs": []
    }
  ]
}